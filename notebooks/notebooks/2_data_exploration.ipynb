import sys
import os
import pandas as pd
import numpy as np
import matplotlib.pyplot as plt
import seaborn as sns
from datetime import datetime
import matplotlib.dates as mdates

# Add the src directory to the path for importing modules
sys.path.append(os.path.abspath('../'))

from src.visualization.visualize import (
    plot_stock_price_history,
    plot_price_with_ma,
    plot_technical_indicators,
    plot_correlation_matrix,
    plot_sentiment_over_time,
    plot_price_vs_sentiment,
    create_interactive_price_plot
)

## 1. Load Processed Data
# Load the processed data
data_path = '../data/processed/processed_data.csv'
data = pd.read_csv(data_path)

# Convert date columns to datetime
data['Date'] = pd.to_datetime(data['Date'])

print(f"Data shape: {data.shape}")
print(f"Date range: {data['Date'].min()} to {data['Date'].max()}")
print(f"Tickers: {data['Ticker'].unique()}")

# Display basic statistics
data.describe()

## 2. Visualize Stock Price History
# Create output directory for figures
os.makedirs('../reports/figures', exist_ok=True)

# Plot stock price history for all tickers
plot_stock_price_history(
    data, 
    save_path='../reports/figures/stock_price_history.png'
)

# Plot individual stock prices with moving averages
for ticker in data['Ticker'].unique():
    plot_price_with_ma(
        data, 
        ticker, 
        save_path=f'../reports/figures/price_ma_{ticker}.png'
    )

## 3. Visualize Technical Indicators
# Plot technical indicators for each ticker
for ticker in data['Ticker'].unique():
    plot_technical_indicators(
        data, 
        ticker,
        save_path=f'../reports/figures/technical_indicators_{ticker}.png'
    )

## 4. Correlation Analysis
# Filter to a single ticker for correlation analysis to avoid mixing different stocks
apple_data = data[data['Ticker'] == 'AAPL'].copy()

# Select relevant features for correlation analysis
corr_features = [
    'Open', 'High', 'Low', 'Close', 'Adj Close', 'Volume',
    'MA_5', 'MA_20', 'RSI', 'MACD', 'MACD_Signal',
    'Price_Change', 'Volume_Change',
    'Sentiment_Score', 'Positive_Score', 'Negative_Score',
    'Target'  # Include target variable
]

# Plot correlation matrix
plot_correlation_matrix(
    apple_data, 
    corr_features,
    title='Feature Correlation Matrix for AAPL',
    save_path='../reports/figures/correlation_matrix_AAPL.png'
)

## 5. Sentiment Analysis Visualization
# Load the news data with sentiment
news_path = '../data/raw/news_data.csv'
news_data = pd.read_csv(news_path)

# Add sentiment features if not already present
if 'sentiment_score' not in news_data.columns:
    from src.features.sentiment_analysis import add_sentiment_features
    from src.data.preprocess import preprocess_news_data
    
    news_data = preprocess_news_data(news_data)
    news_data = add_sentiment_features(news_data, method='combined')

# Plot sentiment over time
plot_sentiment_over_time(
    news_data,
    save_path='../reports/figures/sentiment_over_time.png'
)

# Plot sentiment vs price for each ticker
for ticker in data['Ticker'].unique():
    plot_price_vs_sentiment(
        data, 
        ticker,
        save_path=f'../reports/figures/price_vs_sentiment_{ticker}.png'
    )

## 6. Create Interactive Price Plot
# Create interactive price plot for Apple
apple_fig = create_interactive_price_plot(data, 'AAPL')

# Save the interactive plot
os.makedirs('../reports/interactive', exist_ok=True)
apple_fig.write_html('../reports/interactive/apple_price_interactive.html')

## 7. Target Variable Analysis
# Analyze distribution of target variable
plt.figure(figsize=(10, 6))
for ticker in data['Ticker'].unique():
    ticker_data = data[data['Ticker'] == ticker]
    up_count = ticker_data['Target'].sum()
    down_count = len(ticker_data) - up_count
    total = len(ticker_data)
    
    labels = ['Up', 'Down']
    sizes = [up_count / total * 100, down_count / total * 100]
    
    plt.bar([f"{ticker} - Up", f"{ticker} - Down"], sizes, color=['green', 'red'])

plt.title('Distribution of Price Movement Direction by Ticker (%)', fontsize=16)
plt.ylabel('Percentage (%)', fontsize=12)
plt.xticks(rotation=45)
plt.grid(True, alpha=0.3, axis='y')
plt.tight_layout()
plt.savefig('../reports/figures/target_distribution.png', dpi=300, bbox_inches='tight')
plt.show()

## 8. Feature Distribution Analysis
# Plot distribution of key features
features_to_plot = ['RSI', 'MACD', 'Price_Change', 'Sentiment_Score']

fig, axes = plt.subplots(2, 2, figsize=(14, 10))
axes = axes.flatten()

for i, feature in enumerate(features_to_plot):
    sns.histplot(data=data, x=feature, hue='Target', bins=30, alpha=0.7, ax=axes[i])
    axes[i].set_title(f'Distribution of {feature} by Target', fontsize=14)
    axes[i].grid(True, alpha=0.3)

plt.tight_layout()
plt.savefig('../reports/figures/feature_distributions.png', dpi=300, bbox_inches='tight')
plt.show()

## 9. Time-based Analysis
# Analyze day-of-week effect
data['DayOfWeek'] = data['Date'].dt.dayofweek
days = ['Monday', 'Tuesday', 'Wednesday', 'Thursday', 'Friday']

plt.figure(figsize=(12, 6))
dow_groups = data.groupby('DayOfWeek')['Target'].mean() * 100

plt.bar(days, dow_groups, color='skyblue')
plt.title('Probability of Price Increase by Day of Week (%)', fontsize=16)
plt.ylabel('Probability (%)', fontsize=12)
plt.grid(True, alpha=0.3, axis='y')
plt.tight_layout()
plt.savefig('../reports/figures/day_of_week_effect.png', dpi=300, bbox_inches='tight')
plt.show()

print("Data exploration complete! Visualizations saved to '../reports/figures/' directory.")
